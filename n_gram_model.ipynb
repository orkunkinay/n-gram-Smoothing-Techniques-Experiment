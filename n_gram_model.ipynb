{
 "cells": [
  {
   "cell_type": "code",
   "execution_count": 4,
   "metadata": {},
   "outputs": [
    {
     "name": "stdout",
     "output_type": "stream",
     "text": [
      "Smoothing: none, N: 1, Perplexity: 756.293463286062\n",
      "Smoothing: none, N: 2, Perplexity: 4372.787736958007\n",
      "Smoothing: none, N: 3, Perplexity: 2734609.408338904\n",
      "Smoothing: none, N: 4, Perplexity: 204017704.8781295\n",
      "Smoothing: laplace, N: 1, Perplexity: 601.9017247315586\n",
      "Smoothing: laplace, N: 2, Perplexity: 577.9186179116277\n",
      "Smoothing: laplace, N: 3, Perplexity: 2702.743244041112\n",
      "Smoothing: laplace, N: 4, Perplexity: 4666.671160936945\n",
      "Smoothing: good_turing, N: 1, Perplexity: 756.293463286062\n",
      "Smoothing: good_turing, N: 2, Perplexity: 344743.28438613116\n",
      "Smoothing: good_turing, N: 3, Perplexity: 82396877.91659142\n",
      "Smoothing: good_turing, N: 4, Perplexity: 982967514.0477368\n",
      "Smoothing: jelinek_mercer, N: 1, Perplexity: 756.293463286062\n",
      "Smoothing: jelinek_mercer, N: 2, Perplexity: 5757.050128671211\n",
      "Smoothing: jelinek_mercer, N: 3, Perplexity: 3159456.6710089757\n",
      "Smoothing: jelinek_mercer, N: 4, Perplexity: 218473542.7725073\n",
      "Smoothing: kneser_ney, N: 1, Perplexity: 5.357412831815826e-05\n",
      "Smoothing: kneser_ney, N: 2, Perplexity: 0.32226262306587544\n",
      "Smoothing: kneser_ney, N: 3, Perplexity: 6149.316649121032\n",
      "Smoothing: kneser_ney, N: 4, Perplexity: 12988649.816786418\n",
      "Smoothing: modified_kneser_ney, N: 1, Perplexity: 765.6115110359603\n",
      "Smoothing: modified_kneser_ney, N: 2, Perplexity: 5051.752845959851\n",
      "Smoothing: modified_kneser_ney, N: 3, Perplexity: 3195934.736748798\n",
      "Smoothing: modified_kneser_ney, N: 4, Perplexity: 220785444.09183592\n"
     ]
    }
   ],
   "source": [
    "from nltk.corpus import brown\n",
    "import pandas as pd\n",
    "from n_gram_model import NGramModel\n",
    "\n",
    "corpus = brown.sents()\n",
    "\n",
    "train_corpus = corpus[:int(0.8 * len(corpus))]\n",
    "validation_corpus = corpus[int(0.8 * len(corpus)):]\n",
    "\n",
    "smoothing_techniques = ['none', 'laplace', 'good_turing', 'jelinek_mercer', 'kneser_ney', 'modified_kneser_ney']\n",
    "n_values = [1, 2, 3, 4]\n",
    "\n",
    "results = []\n",
    "\n",
    "for smoothing in smoothing_techniques:\n",
    "    for n in n_values:\n",
    "        model = NGramModel(n=n, smoothing=smoothing)\n",
    "        model.train(train_corpus)\n",
    "        perplexity = model.perplexity(validation_corpus)\n",
    "        results.append((smoothing, n, perplexity))\n",
    "        print(f\"Smoothing: {smoothing}, N: {n}, Perplexity: {perplexity}\")"
   ]
  },
  {
   "cell_type": "code",
   "execution_count": 5,
   "metadata": {},
   "outputs": [
    {
     "name": "stdout",
     "output_type": "stream",
     "text": [
      "Smoothing   good_turing  jelinek_mercer    kneser_ney      laplace  \\\n",
      "N                                                                    \n",
      "1          7.562935e+02    7.562935e+02  5.357413e-05   601.901725   \n",
      "2          3.447433e+05    5.757050e+03  3.222626e-01   577.918618   \n",
      "3          8.239688e+07    3.159457e+06  6.149317e+03  2702.743244   \n",
      "4          9.829675e+08    2.184735e+08  1.298865e+07  4666.671161   \n",
      "\n",
      "Smoothing  modified_kneser_ney          none  \n",
      "N                                             \n",
      "1                 7.656115e+02  7.562935e+02  \n",
      "2                 5.051753e+03  4.372788e+03  \n",
      "3                 3.195935e+06  2.734609e+06  \n",
      "4                 2.207854e+08  2.040177e+08  \n"
     ]
    }
   ],
   "source": [
    "df = pd.DataFrame(results, columns=['Smoothing', 'N', 'Perplexity'])\n",
    "df_pivot = df.pivot(index='N', columns='Smoothing', values='Perplexity')\n",
    "print(df_pivot)"
   ]
  }
 ],
 "metadata": {
  "kernelspec": {
   "display_name": "base",
   "language": "python",
   "name": "python3"
  },
  "language_info": {
   "codemirror_mode": {
    "name": "ipython",
    "version": 3
   },
   "file_extension": ".py",
   "mimetype": "text/x-python",
   "name": "python",
   "nbconvert_exporter": "python",
   "pygments_lexer": "ipython3",
   "version": "3.11.5"
  }
 },
 "nbformat": 4,
 "nbformat_minor": 2
}
